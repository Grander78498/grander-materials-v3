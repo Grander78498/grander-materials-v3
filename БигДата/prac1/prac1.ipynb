{
  "nbformat": 4,
  "nbformat_minor": 0,
  "metadata": {
    "colab": {
      "provenance": []
    },
    "kernelspec": {
      "name": "python3",
      "display_name": "Python 3"
    },
    "language_info": {
      "name": "python"
    }
  },
  "cells": [
    {
      "cell_type": "markdown",
      "source": [
        "Задание №1"
      ],
      "metadata": {
        "id": "i1eZwxeVkZe3"
      }
    },
    {
      "cell_type": "code",
      "source": [
        "%%python --version"
      ],
      "metadata": {
        "colab": {
          "base_uri": "https://localhost:8080/"
        },
        "id": "4QgOWq5XkQRi",
        "outputId": "6ee78a9f-3b09-4884-a7f0-fea47d95bd20"
      },
      "execution_count": null,
      "outputs": [
        {
          "output_type": "stream",
          "name": "stdout",
          "text": [
            "Python 3.12.11\n"
          ]
        }
      ]
    },
    {
      "cell_type": "code",
      "source": [
        "import math"
      ],
      "metadata": {
        "id": "WWyqz1DUk1hO"
      },
      "execution_count": null,
      "outputs": []
    },
    {
      "cell_type": "markdown",
      "source": [
        "Задание №2"
      ],
      "metadata": {
        "id": "Ju0BQaDdmUim"
      }
    },
    {
      "cell_type": "code",
      "execution_count": null,
      "metadata": {
        "id": "n8y26VpojFft"
      },
      "outputs": [],
      "source": [
        "def square(figure_type: str,\n",
        "           a: float | None = None, b: float | None = None,\n",
        "           c: float | None = None, r: float | None = None):\n",
        "    match figure_type:\n",
        "        case \"triangle\":\n",
        "            p = 1/2 * (a + b + c)\n",
        "            return {figure_type: math.sqrt(p * (p - a) * (p - b) * (p - c))}\n",
        "        case \"rectangle\":\n",
        "            return {figure_type: a * b}\n",
        "        case \"circle\":\n",
        "            return {figure_type: math.pi * r ** 2}"
      ]
    },
    {
      "cell_type": "code",
      "source": [
        "square(\"rectangle\", a=2, b=3)"
      ],
      "metadata": {
        "colab": {
          "base_uri": "https://localhost:8080/"
        },
        "id": "ZomyMBYpk9ar",
        "outputId": "bf04437a-cd46-4e99-b353-4b4fdc2fb5ce"
      },
      "execution_count": null,
      "outputs": [
        {
          "output_type": "execute_result",
          "data": {
            "text/plain": [
              "{'rectangle': 6}"
            ]
          },
          "metadata": {},
          "execution_count": 3
        }
      ]
    },
    {
      "cell_type": "code",
      "source": [
        "square(\"triangle\", a=2, b=2, c=2)"
      ],
      "metadata": {
        "colab": {
          "base_uri": "https://localhost:8080/"
        },
        "id": "_kBKI1arlAKa",
        "outputId": "34ae8896-7971-4672-fb43-14494b4e52c1"
      },
      "execution_count": null,
      "outputs": [
        {
          "output_type": "execute_result",
          "data": {
            "text/plain": [
              "{'triangle': 1.7320508075688772}"
            ]
          },
          "metadata": {},
          "execution_count": 4
        }
      ]
    },
    {
      "cell_type": "code",
      "source": [
        "square(\"circle\", r=1)"
      ],
      "metadata": {
        "colab": {
          "base_uri": "https://localhost:8080/"
        },
        "id": "t-aUTgN-lYF8",
        "outputId": "f0edfda7-e139-48dc-9b92-7404a2cabb49"
      },
      "execution_count": null,
      "outputs": [
        {
          "output_type": "execute_result",
          "data": {
            "text/plain": [
              "{'circle': 3.141592653589793}"
            ]
          },
          "metadata": {},
          "execution_count": 5
        }
      ]
    },
    {
      "cell_type": "markdown",
      "source": [
        "Задание №3"
      ],
      "metadata": {
        "id": "IkFuR9LLmXwM"
      }
    },
    {
      "cell_type": "code",
      "source": [
        "def calculator(operation: str, operand1: float, operand2: float | None = None):\n",
        "    match operation:\n",
        "        case '+':\n",
        "            return operand1 + operand2\n",
        "        case '-':\n",
        "            return operand1 - operand2\n",
        "        case '*':\n",
        "            return operand1 * operand2\n",
        "        case '//':\n",
        "            return operand1 // operand2\n",
        "        case '/':\n",
        "            return operand1 / operand2\n",
        "        case 'abs':\n",
        "            return abs(operand1)\n",
        "        case 'pow':\n",
        "            return operand1 ** operand2"
      ],
      "metadata": {
        "id": "8aQFbzVIla20"
      },
      "execution_count": null,
      "outputs": []
    },
    {
      "cell_type": "code",
      "source": [
        "calculator(\"+\", 77, 33)"
      ],
      "metadata": {
        "colab": {
          "base_uri": "https://localhost:8080/"
        },
        "id": "HMqtW3sgmozJ",
        "outputId": "cb3f31c7-6e25-4ad2-fabf-9daa8e2e8813"
      },
      "execution_count": null,
      "outputs": [
        {
          "output_type": "execute_result",
          "data": {
            "text/plain": [
              "110"
            ]
          },
          "metadata": {},
          "execution_count": 7
        }
      ]
    },
    {
      "cell_type": "code",
      "source": [
        "calculator(\"pow\", 2, 10)"
      ],
      "metadata": {
        "colab": {
          "base_uri": "https://localhost:8080/"
        },
        "id": "j-2gWEahmsft",
        "outputId": "214013b7-5bfa-49e2-d4b9-76043d6331e1"
      },
      "execution_count": null,
      "outputs": [
        {
          "output_type": "execute_result",
          "data": {
            "text/plain": [
              "1024"
            ]
          },
          "metadata": {},
          "execution_count": 8
        }
      ]
    },
    {
      "cell_type": "code",
      "source": [
        "calculator(\"abs\", -3)"
      ],
      "metadata": {
        "colab": {
          "base_uri": "https://localhost:8080/"
        },
        "id": "fBgr5nu3pIIo",
        "outputId": "40931398-d424-4ede-e657-f9c4ff51e3ab"
      },
      "execution_count": null,
      "outputs": [
        {
          "output_type": "execute_result",
          "data": {
            "text/plain": [
              "3"
            ]
          },
          "metadata": {},
          "execution_count": 13
        }
      ]
    },
    {
      "cell_type": "markdown",
      "source": [
        "Задание №4"
      ],
      "metadata": {
        "id": "DqH2rhcFm1OB"
      }
    },
    {
      "cell_type": "code",
      "source": [
        "def square_sum():\n",
        "    s = int(input())\n",
        "    result = s ** 2\n",
        "    while s != 0:\n",
        "        n = int(input())\n",
        "        s += n\n",
        "        result += n ** 2\n",
        "    return result"
      ],
      "metadata": {
        "id": "fh_vIpOEm23b"
      },
      "execution_count": null,
      "outputs": []
    },
    {
      "cell_type": "code",
      "source": [
        "print(\"Result: \", square_sum())"
      ],
      "metadata": {
        "colab": {
          "base_uri": "https://localhost:8080/"
        },
        "id": "oAmnZMC6nTeB",
        "outputId": "b90d3cfd-1cfc-4be6-b02a-0eefac061e47"
      },
      "execution_count": null,
      "outputs": [
        {
          "output_type": "stream",
          "name": "stdout",
          "text": [
            "1\n",
            "2\n",
            "-3\n",
            "Result:  14\n"
          ]
        }
      ]
    },
    {
      "cell_type": "markdown",
      "source": [
        "Задание №5"
      ],
      "metadata": {
        "id": "0p6QNP8Zn8Q9"
      }
    },
    {
      "cell_type": "code",
      "source": [
        "def print_repeating_numbers(n: int):\n",
        "    i = 1\n",
        "    result = []\n",
        "    while n > 0:\n",
        "        result.extend([i] * min(i, n))\n",
        "        n -= i\n",
        "        i += 1\n",
        "    print(*result)"
      ],
      "metadata": {
        "id": "kOSu3zXwnb1k"
      },
      "execution_count": null,
      "outputs": []
    },
    {
      "cell_type": "code",
      "source": [
        "print_repeating_numbers(13)"
      ],
      "metadata": {
        "colab": {
          "base_uri": "https://localhost:8080/"
        },
        "id": "qEDpqT-Zo-lT",
        "outputId": "21d85309-5cf8-48fa-ee30-05b7dcdc78f2"
      },
      "execution_count": null,
      "outputs": [
        {
          "output_type": "stream",
          "name": "stdout",
          "text": [
            "1 2 2 3 3 3 4 4 4 4 5 5 5\n"
          ]
        }
      ]
    },
    {
      "cell_type": "markdown",
      "source": [
        "Задание №6"
      ],
      "metadata": {
        "id": "lNinO4ZgpVvc"
      }
    },
    {
      "cell_type": "code",
      "source": [
        "def accumulate(a: list[int], b: list[str]) -> dict[str, int]:\n",
        "    if len(a) != len(b): raise Exception(\"Не совпадает длина списков\")\n",
        "\n",
        "    result_dict = {}\n",
        "    for i in range(len(b)):\n",
        "        result_dict[b[i]] = result_dict.get(b[i], 0) + a[i]\n",
        "    return result_dict"
      ],
      "metadata": {
        "id": "6qEyPYpDpXI3"
      },
      "execution_count": null,
      "outputs": []
    },
    {
      "cell_type": "code",
      "source": [
        "a = [1, 2, 3, 4, 2, 1, 3, 4, 5, 6, 5, 4, 3, 2]\n",
        "b = ['a', 'b', 'c', 'c', 'c', 'b', 'a', 'c', 'a', 'a', 'b', 'c', 'b', 'a']\n",
        "print(accumulate(a, b))"
      ],
      "metadata": {
        "colab": {
          "base_uri": "https://localhost:8080/"
        },
        "id": "MVTQef3tqHLd",
        "outputId": "58b7f8ad-9100-4355-e201-6ab9b2353aff"
      },
      "execution_count": null,
      "outputs": [
        {
          "output_type": "stream",
          "name": "stdout",
          "text": [
            "{'a': 17, 'b': 11, 'c': 17}\n"
          ]
        }
      ]
    },
    {
      "cell_type": "markdown",
      "source": [
        "Задание №7"
      ],
      "metadata": {
        "id": "9ElWQ9OUq-RV"
      }
    },
    {
      "cell_type": "code",
      "source": [
        "from sklearn.datasets import fetch_california_housing\n",
        "data = fetch_california_housing(as_frame=True)"
      ],
      "metadata": {
        "id": "87KF1QgQrOD8"
      },
      "execution_count": null,
      "outputs": []
    },
    {
      "cell_type": "markdown",
      "source": [
        "Задание №8"
      ],
      "metadata": {
        "id": "mPDTcyD0rdXZ"
      }
    },
    {
      "cell_type": "code",
      "source": [
        "data.frame.info()"
      ],
      "metadata": {
        "colab": {
          "base_uri": "https://localhost:8080/"
        },
        "id": "lQWQmUTUrcia",
        "outputId": "d7fa8156-6224-4ecf-904b-4c9c2a4f8972"
      },
      "execution_count": null,
      "outputs": [
        {
          "output_type": "stream",
          "name": "stdout",
          "text": [
            "<class 'pandas.core.frame.DataFrame'>\n",
            "RangeIndex: 20640 entries, 0 to 20639\n",
            "Data columns (total 9 columns):\n",
            " #   Column       Non-Null Count  Dtype  \n",
            "---  ------       --------------  -----  \n",
            " 0   MedInc       20640 non-null  float64\n",
            " 1   HouseAge     20640 non-null  float64\n",
            " 2   AveRooms     20640 non-null  float64\n",
            " 3   AveBedrms    20640 non-null  float64\n",
            " 4   Population   20640 non-null  float64\n",
            " 5   AveOccup     20640 non-null  float64\n",
            " 6   Latitude     20640 non-null  float64\n",
            " 7   Longitude    20640 non-null  float64\n",
            " 8   MedHouseVal  20640 non-null  float64\n",
            "dtypes: float64(9)\n",
            "memory usage: 1.4 MB\n"
          ]
        }
      ]
    },
    {
      "cell_type": "markdown",
      "source": [
        "Задание №9"
      ],
      "metadata": {
        "id": "-D3nfPR2sDTe"
      }
    },
    {
      "cell_type": "code",
      "source": [
        "data.frame.isna().sum()"
      ],
      "metadata": {
        "colab": {
          "base_uri": "https://localhost:8080/",
          "height": 366
        },
        "id": "pmKoS26irfuW",
        "outputId": "2525244a-e151-46bb-a58d-1f10974f4fdd"
      },
      "execution_count": null,
      "outputs": [
        {
          "output_type": "execute_result",
          "data": {
            "text/plain": [
              "MedInc         0\n",
              "HouseAge       0\n",
              "AveRooms       0\n",
              "AveBedrms      0\n",
              "Population     0\n",
              "AveOccup       0\n",
              "Latitude       0\n",
              "Longitude      0\n",
              "MedHouseVal    0\n",
              "dtype: int64"
            ],
            "text/html": [
              "<div>\n",
              "<style scoped>\n",
              "    .dataframe tbody tr th:only-of-type {\n",
              "        vertical-align: middle;\n",
              "    }\n",
              "\n",
              "    .dataframe tbody tr th {\n",
              "        vertical-align: top;\n",
              "    }\n",
              "\n",
              "    .dataframe thead th {\n",
              "        text-align: right;\n",
              "    }\n",
              "</style>\n",
              "<table border=\"1\" class=\"dataframe\">\n",
              "  <thead>\n",
              "    <tr style=\"text-align: right;\">\n",
              "      <th></th>\n",
              "      <th>0</th>\n",
              "    </tr>\n",
              "  </thead>\n",
              "  <tbody>\n",
              "    <tr>\n",
              "      <th>MedInc</th>\n",
              "      <td>0</td>\n",
              "    </tr>\n",
              "    <tr>\n",
              "      <th>HouseAge</th>\n",
              "      <td>0</td>\n",
              "    </tr>\n",
              "    <tr>\n",
              "      <th>AveRooms</th>\n",
              "      <td>0</td>\n",
              "    </tr>\n",
              "    <tr>\n",
              "      <th>AveBedrms</th>\n",
              "      <td>0</td>\n",
              "    </tr>\n",
              "    <tr>\n",
              "      <th>Population</th>\n",
              "      <td>0</td>\n",
              "    </tr>\n",
              "    <tr>\n",
              "      <th>AveOccup</th>\n",
              "      <td>0</td>\n",
              "    </tr>\n",
              "    <tr>\n",
              "      <th>Latitude</th>\n",
              "      <td>0</td>\n",
              "    </tr>\n",
              "    <tr>\n",
              "      <th>Longitude</th>\n",
              "      <td>0</td>\n",
              "    </tr>\n",
              "    <tr>\n",
              "      <th>MedHouseVal</th>\n",
              "      <td>0</td>\n",
              "    </tr>\n",
              "  </tbody>\n",
              "</table>\n",
              "</div><br><label><b>dtype:</b> int64</label>"
            ]
          },
          "metadata": {},
          "execution_count": 26
        }
      ]
    },
    {
      "cell_type": "markdown",
      "source": [
        "Пропущенных значений нет"
      ],
      "metadata": {
        "id": "XzBlDy99sISK"
      }
    },
    {
      "cell_type": "markdown",
      "source": [
        "Задание №10"
      ],
      "metadata": {
        "id": "RjhpwNljsMPj"
      }
    },
    {
      "cell_type": "code",
      "source": [
        "df = data.frame\n",
        "df.loc[(df.HouseAge > 50) & (df.Population > 2500)]"
      ],
      "metadata": {
        "colab": {
          "base_uri": "https://localhost:8080/",
          "height": 457
        },
        "id": "Hm23HBmQsGGJ",
        "outputId": "9d838cde-8e86-44cd-c0da-e57e573997dd"
      },
      "execution_count": null,
      "outputs": [
        {
          "output_type": "execute_result",
          "data": {
            "text/plain": [
              "       MedInc  HouseAge  AveRooms  AveBedrms  Population    AveOccup  \\\n",
              "460    1.4012      52.0  3.105714   1.060000      3337.0    9.534286   \n",
              "4131   3.5349      52.0  4.646119   1.047945      2589.0    5.910959   \n",
              "4440   2.6806      52.0  4.806283   1.057592      3062.0    4.007853   \n",
              "5986   1.8750      52.0  4.500000   1.206349      2688.0   21.333333   \n",
              "7369   3.1901      52.0  4.730942   1.017937      3731.0    4.182735   \n",
              "8227   2.3305      52.0  3.488860   1.170380      3018.0    3.955439   \n",
              "13034  6.1359      52.0  8.275862   1.517241      6675.0  230.172414   \n",
              "15634  1.8295      52.0  2.628169   1.053521      2957.0    4.164789   \n",
              "15652  0.9000      52.0  2.237474   1.053535      3260.0    2.237474   \n",
              "15657  2.5166      52.0  2.839075   1.184049      3436.0    1.621520   \n",
              "15659  1.7240      52.0  2.278566   1.082348      4518.0    1.780142   \n",
              "15795  2.5755      52.0  3.402576   1.058776      2619.0    2.108696   \n",
              "15868  2.8135      52.0  4.584329   1.041169      2987.0    3.966799   \n",
              "\n",
              "       Latitude  Longitude  MedHouseVal  \n",
              "460       37.87    -122.26      1.75000  \n",
              "4131      34.13    -118.20      1.93600  \n",
              "4440      34.08    -118.21      1.53000  \n",
              "5986      34.10    -117.71      2.12500  \n",
              "7369      33.97    -118.21      1.67600  \n",
              "8227      33.78    -118.20      1.62500  \n",
              "13034     38.69    -121.15      2.25000  \n",
              "15634     37.80    -122.41      2.43800  \n",
              "15652     37.80    -122.41      5.00001  \n",
              "15657     37.79    -122.41      2.75000  \n",
              "15659     37.79    -122.41      2.25000  \n",
              "15795     37.77    -122.42      3.25000  \n",
              "15868     37.76    -122.41      2.60300  "
            ],
            "text/html": [
              "\n",
              "  <div id=\"df-ef0c6f96-5736-4602-97b8-8fdd3912783f\" class=\"colab-df-container\">\n",
              "    <div>\n",
              "<style scoped>\n",
              "    .dataframe tbody tr th:only-of-type {\n",
              "        vertical-align: middle;\n",
              "    }\n",
              "\n",
              "    .dataframe tbody tr th {\n",
              "        vertical-align: top;\n",
              "    }\n",
              "\n",
              "    .dataframe thead th {\n",
              "        text-align: right;\n",
              "    }\n",
              "</style>\n",
              "<table border=\"1\" class=\"dataframe\">\n",
              "  <thead>\n",
              "    <tr style=\"text-align: right;\">\n",
              "      <th></th>\n",
              "      <th>MedInc</th>\n",
              "      <th>HouseAge</th>\n",
              "      <th>AveRooms</th>\n",
              "      <th>AveBedrms</th>\n",
              "      <th>Population</th>\n",
              "      <th>AveOccup</th>\n",
              "      <th>Latitude</th>\n",
              "      <th>Longitude</th>\n",
              "      <th>MedHouseVal</th>\n",
              "    </tr>\n",
              "  </thead>\n",
              "  <tbody>\n",
              "    <tr>\n",
              "      <th>460</th>\n",
              "      <td>1.4012</td>\n",
              "      <td>52.0</td>\n",
              "      <td>3.105714</td>\n",
              "      <td>1.060000</td>\n",
              "      <td>3337.0</td>\n",
              "      <td>9.534286</td>\n",
              "      <td>37.87</td>\n",
              "      <td>-122.26</td>\n",
              "      <td>1.75000</td>\n",
              "    </tr>\n",
              "    <tr>\n",
              "      <th>4131</th>\n",
              "      <td>3.5349</td>\n",
              "      <td>52.0</td>\n",
              "      <td>4.646119</td>\n",
              "      <td>1.047945</td>\n",
              "      <td>2589.0</td>\n",
              "      <td>5.910959</td>\n",
              "      <td>34.13</td>\n",
              "      <td>-118.20</td>\n",
              "      <td>1.93600</td>\n",
              "    </tr>\n",
              "    <tr>\n",
              "      <th>4440</th>\n",
              "      <td>2.6806</td>\n",
              "      <td>52.0</td>\n",
              "      <td>4.806283</td>\n",
              "      <td>1.057592</td>\n",
              "      <td>3062.0</td>\n",
              "      <td>4.007853</td>\n",
              "      <td>34.08</td>\n",
              "      <td>-118.21</td>\n",
              "      <td>1.53000</td>\n",
              "    </tr>\n",
              "    <tr>\n",
              "      <th>5986</th>\n",
              "      <td>1.8750</td>\n",
              "      <td>52.0</td>\n",
              "      <td>4.500000</td>\n",
              "      <td>1.206349</td>\n",
              "      <td>2688.0</td>\n",
              "      <td>21.333333</td>\n",
              "      <td>34.10</td>\n",
              "      <td>-117.71</td>\n",
              "      <td>2.12500</td>\n",
              "    </tr>\n",
              "    <tr>\n",
              "      <th>7369</th>\n",
              "      <td>3.1901</td>\n",
              "      <td>52.0</td>\n",
              "      <td>4.730942</td>\n",
              "      <td>1.017937</td>\n",
              "      <td>3731.0</td>\n",
              "      <td>4.182735</td>\n",
              "      <td>33.97</td>\n",
              "      <td>-118.21</td>\n",
              "      <td>1.67600</td>\n",
              "    </tr>\n",
              "    <tr>\n",
              "      <th>8227</th>\n",
              "      <td>2.3305</td>\n",
              "      <td>52.0</td>\n",
              "      <td>3.488860</td>\n",
              "      <td>1.170380</td>\n",
              "      <td>3018.0</td>\n",
              "      <td>3.955439</td>\n",
              "      <td>33.78</td>\n",
              "      <td>-118.20</td>\n",
              "      <td>1.62500</td>\n",
              "    </tr>\n",
              "    <tr>\n",
              "      <th>13034</th>\n",
              "      <td>6.1359</td>\n",
              "      <td>52.0</td>\n",
              "      <td>8.275862</td>\n",
              "      <td>1.517241</td>\n",
              "      <td>6675.0</td>\n",
              "      <td>230.172414</td>\n",
              "      <td>38.69</td>\n",
              "      <td>-121.15</td>\n",
              "      <td>2.25000</td>\n",
              "    </tr>\n",
              "    <tr>\n",
              "      <th>15634</th>\n",
              "      <td>1.8295</td>\n",
              "      <td>52.0</td>\n",
              "      <td>2.628169</td>\n",
              "      <td>1.053521</td>\n",
              "      <td>2957.0</td>\n",
              "      <td>4.164789</td>\n",
              "      <td>37.80</td>\n",
              "      <td>-122.41</td>\n",
              "      <td>2.43800</td>\n",
              "    </tr>\n",
              "    <tr>\n",
              "      <th>15652</th>\n",
              "      <td>0.9000</td>\n",
              "      <td>52.0</td>\n",
              "      <td>2.237474</td>\n",
              "      <td>1.053535</td>\n",
              "      <td>3260.0</td>\n",
              "      <td>2.237474</td>\n",
              "      <td>37.80</td>\n",
              "      <td>-122.41</td>\n",
              "      <td>5.00001</td>\n",
              "    </tr>\n",
              "    <tr>\n",
              "      <th>15657</th>\n",
              "      <td>2.5166</td>\n",
              "      <td>52.0</td>\n",
              "      <td>2.839075</td>\n",
              "      <td>1.184049</td>\n",
              "      <td>3436.0</td>\n",
              "      <td>1.621520</td>\n",
              "      <td>37.79</td>\n",
              "      <td>-122.41</td>\n",
              "      <td>2.75000</td>\n",
              "    </tr>\n",
              "    <tr>\n",
              "      <th>15659</th>\n",
              "      <td>1.7240</td>\n",
              "      <td>52.0</td>\n",
              "      <td>2.278566</td>\n",
              "      <td>1.082348</td>\n",
              "      <td>4518.0</td>\n",
              "      <td>1.780142</td>\n",
              "      <td>37.79</td>\n",
              "      <td>-122.41</td>\n",
              "      <td>2.25000</td>\n",
              "    </tr>\n",
              "    <tr>\n",
              "      <th>15795</th>\n",
              "      <td>2.5755</td>\n",
              "      <td>52.0</td>\n",
              "      <td>3.402576</td>\n",
              "      <td>1.058776</td>\n",
              "      <td>2619.0</td>\n",
              "      <td>2.108696</td>\n",
              "      <td>37.77</td>\n",
              "      <td>-122.42</td>\n",
              "      <td>3.25000</td>\n",
              "    </tr>\n",
              "    <tr>\n",
              "      <th>15868</th>\n",
              "      <td>2.8135</td>\n",
              "      <td>52.0</td>\n",
              "      <td>4.584329</td>\n",
              "      <td>1.041169</td>\n",
              "      <td>2987.0</td>\n",
              "      <td>3.966799</td>\n",
              "      <td>37.76</td>\n",
              "      <td>-122.41</td>\n",
              "      <td>2.60300</td>\n",
              "    </tr>\n",
              "  </tbody>\n",
              "</table>\n",
              "</div>\n",
              "    <div class=\"colab-df-buttons\">\n",
              "\n",
              "  <div class=\"colab-df-container\">\n",
              "    <button class=\"colab-df-convert\" onclick=\"convertToInteractive('df-ef0c6f96-5736-4602-97b8-8fdd3912783f')\"\n",
              "            title=\"Convert this dataframe to an interactive table.\"\n",
              "            style=\"display:none;\">\n",
              "\n",
              "  <svg xmlns=\"http://www.w3.org/2000/svg\" height=\"24px\" viewBox=\"0 -960 960 960\">\n",
              "    <path d=\"M120-120v-720h720v720H120Zm60-500h600v-160H180v160Zm220 220h160v-160H400v160Zm0 220h160v-160H400v160ZM180-400h160v-160H180v160Zm440 0h160v-160H620v160ZM180-180h160v-160H180v160Zm440 0h160v-160H620v160Z\"/>\n",
              "  </svg>\n",
              "    </button>\n",
              "\n",
              "  <style>\n",
              "    .colab-df-container {\n",
              "      display:flex;\n",
              "      gap: 12px;\n",
              "    }\n",
              "\n",
              "    .colab-df-convert {\n",
              "      background-color: #E8F0FE;\n",
              "      border: none;\n",
              "      border-radius: 50%;\n",
              "      cursor: pointer;\n",
              "      display: none;\n",
              "      fill: #1967D2;\n",
              "      height: 32px;\n",
              "      padding: 0 0 0 0;\n",
              "      width: 32px;\n",
              "    }\n",
              "\n",
              "    .colab-df-convert:hover {\n",
              "      background-color: #E2EBFA;\n",
              "      box-shadow: 0px 1px 2px rgba(60, 64, 67, 0.3), 0px 1px 3px 1px rgba(60, 64, 67, 0.15);\n",
              "      fill: #174EA6;\n",
              "    }\n",
              "\n",
              "    .colab-df-buttons div {\n",
              "      margin-bottom: 4px;\n",
              "    }\n",
              "\n",
              "    [theme=dark] .colab-df-convert {\n",
              "      background-color: #3B4455;\n",
              "      fill: #D2E3FC;\n",
              "    }\n",
              "\n",
              "    [theme=dark] .colab-df-convert:hover {\n",
              "      background-color: #434B5C;\n",
              "      box-shadow: 0px 1px 3px 1px rgba(0, 0, 0, 0.15);\n",
              "      filter: drop-shadow(0px 1px 2px rgba(0, 0, 0, 0.3));\n",
              "      fill: #FFFFFF;\n",
              "    }\n",
              "  </style>\n",
              "\n",
              "    <script>\n",
              "      const buttonEl =\n",
              "        document.querySelector('#df-ef0c6f96-5736-4602-97b8-8fdd3912783f button.colab-df-convert');\n",
              "      buttonEl.style.display =\n",
              "        google.colab.kernel.accessAllowed ? 'block' : 'none';\n",
              "\n",
              "      async function convertToInteractive(key) {\n",
              "        const element = document.querySelector('#df-ef0c6f96-5736-4602-97b8-8fdd3912783f');\n",
              "        const dataTable =\n",
              "          await google.colab.kernel.invokeFunction('convertToInteractive',\n",
              "                                                    [key], {});\n",
              "        if (!dataTable) return;\n",
              "\n",
              "        const docLinkHtml = 'Like what you see? Visit the ' +\n",
              "          '<a target=\"_blank\" href=https://colab.research.google.com/notebooks/data_table.ipynb>data table notebook</a>'\n",
              "          + ' to learn more about interactive tables.';\n",
              "        element.innerHTML = '';\n",
              "        dataTable['output_type'] = 'display_data';\n",
              "        await google.colab.output.renderOutput(dataTable, element);\n",
              "        const docLink = document.createElement('div');\n",
              "        docLink.innerHTML = docLinkHtml;\n",
              "        element.appendChild(docLink);\n",
              "      }\n",
              "    </script>\n",
              "  </div>\n",
              "\n",
              "\n",
              "    <div id=\"df-7fcd787e-39d5-40ce-a4e9-ba589e575783\">\n",
              "      <button class=\"colab-df-quickchart\" onclick=\"quickchart('df-7fcd787e-39d5-40ce-a4e9-ba589e575783')\"\n",
              "                title=\"Suggest charts\"\n",
              "                style=\"display:none;\">\n",
              "\n",
              "<svg xmlns=\"http://www.w3.org/2000/svg\" height=\"24px\"viewBox=\"0 0 24 24\"\n",
              "     width=\"24px\">\n",
              "    <g>\n",
              "        <path d=\"M19 3H5c-1.1 0-2 .9-2 2v14c0 1.1.9 2 2 2h14c1.1 0 2-.9 2-2V5c0-1.1-.9-2-2-2zM9 17H7v-7h2v7zm4 0h-2V7h2v10zm4 0h-2v-4h2v4z\"/>\n",
              "    </g>\n",
              "</svg>\n",
              "      </button>\n",
              "\n",
              "<style>\n",
              "  .colab-df-quickchart {\n",
              "      --bg-color: #E8F0FE;\n",
              "      --fill-color: #1967D2;\n",
              "      --hover-bg-color: #E2EBFA;\n",
              "      --hover-fill-color: #174EA6;\n",
              "      --disabled-fill-color: #AAA;\n",
              "      --disabled-bg-color: #DDD;\n",
              "  }\n",
              "\n",
              "  [theme=dark] .colab-df-quickchart {\n",
              "      --bg-color: #3B4455;\n",
              "      --fill-color: #D2E3FC;\n",
              "      --hover-bg-color: #434B5C;\n",
              "      --hover-fill-color: #FFFFFF;\n",
              "      --disabled-bg-color: #3B4455;\n",
              "      --disabled-fill-color: #666;\n",
              "  }\n",
              "\n",
              "  .colab-df-quickchart {\n",
              "    background-color: var(--bg-color);\n",
              "    border: none;\n",
              "    border-radius: 50%;\n",
              "    cursor: pointer;\n",
              "    display: none;\n",
              "    fill: var(--fill-color);\n",
              "    height: 32px;\n",
              "    padding: 0;\n",
              "    width: 32px;\n",
              "  }\n",
              "\n",
              "  .colab-df-quickchart:hover {\n",
              "    background-color: var(--hover-bg-color);\n",
              "    box-shadow: 0 1px 2px rgba(60, 64, 67, 0.3), 0 1px 3px 1px rgba(60, 64, 67, 0.15);\n",
              "    fill: var(--button-hover-fill-color);\n",
              "  }\n",
              "\n",
              "  .colab-df-quickchart-complete:disabled,\n",
              "  .colab-df-quickchart-complete:disabled:hover {\n",
              "    background-color: var(--disabled-bg-color);\n",
              "    fill: var(--disabled-fill-color);\n",
              "    box-shadow: none;\n",
              "  }\n",
              "\n",
              "  .colab-df-spinner {\n",
              "    border: 2px solid var(--fill-color);\n",
              "    border-color: transparent;\n",
              "    border-bottom-color: var(--fill-color);\n",
              "    animation:\n",
              "      spin 1s steps(1) infinite;\n",
              "  }\n",
              "\n",
              "  @keyframes spin {\n",
              "    0% {\n",
              "      border-color: transparent;\n",
              "      border-bottom-color: var(--fill-color);\n",
              "      border-left-color: var(--fill-color);\n",
              "    }\n",
              "    20% {\n",
              "      border-color: transparent;\n",
              "      border-left-color: var(--fill-color);\n",
              "      border-top-color: var(--fill-color);\n",
              "    }\n",
              "    30% {\n",
              "      border-color: transparent;\n",
              "      border-left-color: var(--fill-color);\n",
              "      border-top-color: var(--fill-color);\n",
              "      border-right-color: var(--fill-color);\n",
              "    }\n",
              "    40% {\n",
              "      border-color: transparent;\n",
              "      border-right-color: var(--fill-color);\n",
              "      border-top-color: var(--fill-color);\n",
              "    }\n",
              "    60% {\n",
              "      border-color: transparent;\n",
              "      border-right-color: var(--fill-color);\n",
              "    }\n",
              "    80% {\n",
              "      border-color: transparent;\n",
              "      border-right-color: var(--fill-color);\n",
              "      border-bottom-color: var(--fill-color);\n",
              "    }\n",
              "    90% {\n",
              "      border-color: transparent;\n",
              "      border-bottom-color: var(--fill-color);\n",
              "    }\n",
              "  }\n",
              "</style>\n",
              "\n",
              "      <script>\n",
              "        async function quickchart(key) {\n",
              "          const quickchartButtonEl =\n",
              "            document.querySelector('#' + key + ' button');\n",
              "          quickchartButtonEl.disabled = true;  // To prevent multiple clicks.\n",
              "          quickchartButtonEl.classList.add('colab-df-spinner');\n",
              "          try {\n",
              "            const charts = await google.colab.kernel.invokeFunction(\n",
              "                'suggestCharts', [key], {});\n",
              "          } catch (error) {\n",
              "            console.error('Error during call to suggestCharts:', error);\n",
              "          }\n",
              "          quickchartButtonEl.classList.remove('colab-df-spinner');\n",
              "          quickchartButtonEl.classList.add('colab-df-quickchart-complete');\n",
              "        }\n",
              "        (() => {\n",
              "          let quickchartButtonEl =\n",
              "            document.querySelector('#df-7fcd787e-39d5-40ce-a4e9-ba589e575783 button');\n",
              "          quickchartButtonEl.style.display =\n",
              "            google.colab.kernel.accessAllowed ? 'block' : 'none';\n",
              "        })();\n",
              "      </script>\n",
              "    </div>\n",
              "    </div>\n",
              "  </div>\n"
            ],
            "application/vnd.google.colaboratory.intrinsic+json": {
              "type": "dataframe",
              "summary": "{\n  \"name\": \"df\",\n  \"rows\": 13,\n  \"fields\": [\n    {\n      \"column\": \"MedInc\",\n      \"properties\": {\n        \"dtype\": \"number\",\n        \"std\": 1.2930684416316058,\n        \"min\": 0.9,\n        \"max\": 6.1359,\n        \"num_unique_values\": 13,\n        \"samples\": [\n          2.5755,\n          2.5166,\n          1.4012\n        ],\n        \"semantic_type\": \"\",\n        \"description\": \"\"\n      }\n    },\n    {\n      \"column\": \"HouseAge\",\n      \"properties\": {\n        \"dtype\": \"number\",\n        \"std\": 0.0,\n        \"min\": 52.0,\n        \"max\": 52.0,\n        \"num_unique_values\": 1,\n        \"samples\": [\n          52.0\n        ],\n        \"semantic_type\": \"\",\n        \"description\": \"\"\n      }\n    },\n    {\n      \"column\": \"AveRooms\",\n      \"properties\": {\n        \"dtype\": \"number\",\n        \"std\": 1.6118382075826694,\n        \"min\": 2.237474262182567,\n        \"max\": 8.275862068965518,\n        \"num_unique_values\": 13,\n        \"samples\": [\n          3.4025764895330113\n        ],\n        \"semantic_type\": \"\",\n        \"description\": \"\"\n      }\n    },\n    {\n      \"column\": \"AveBedrms\",\n      \"properties\": {\n        \"dtype\": \"number\",\n        \"std\": 0.1339190879775565,\n        \"min\": 1.0179372197309418,\n        \"max\": 1.5172413793103448,\n        \"num_unique_values\": 13,\n        \"samples\": [\n          1.0587761674718197\n        ],\n        \"semantic_type\": \"\",\n        \"description\": \"\"\n      }\n    },\n    {\n      \"column\": \"Population\",\n      \"properties\": {\n        \"dtype\": \"number\",\n        \"std\": 1098.344622719304,\n        \"min\": 2589.0,\n        \"max\": 6675.0,\n        \"num_unique_values\": 13,\n        \"samples\": [\n          2619.0\n        ],\n        \"semantic_type\": \"\",\n        \"description\": \"\"\n      }\n    },\n    {\n      \"column\": \"AveOccup\",\n      \"properties\": {\n        \"dtype\": \"number\",\n        \"std\": 62.55974974230084,\n        \"min\": 1.6215195847097688,\n        \"max\": 230.17241379310346,\n        \"num_unique_values\": 13,\n        \"samples\": [\n          2.108695652173913\n        ],\n        \"semantic_type\": \"\",\n        \"description\": \"\"\n      }\n    },\n    {\n      \"column\": \"Latitude\",\n      \"properties\": {\n        \"dtype\": \"number\",\n        \"std\": 1.9897445397169278,\n        \"min\": 33.78,\n        \"max\": 38.69,\n        \"num_unique_values\": 11,\n        \"samples\": [\n          33.78\n        ],\n        \"semantic_type\": \"\",\n        \"description\": \"\"\n      }\n    },\n    {\n      \"column\": \"Longitude\",\n      \"properties\": {\n        \"dtype\": \"number\",\n        \"std\": 2.121687161260211,\n        \"min\": -122.42,\n        \"max\": -117.71,\n        \"num_unique_values\": 7,\n        \"samples\": [\n          -122.26\n        ],\n        \"semantic_type\": \"\",\n        \"description\": \"\"\n      }\n    },\n    {\n      \"column\": \"MedHouseVal\",\n      \"properties\": {\n        \"dtype\": \"number\",\n        \"std\": 0.9259141786849056,\n        \"min\": 1.53,\n        \"max\": 5.00001,\n        \"num_unique_values\": 12,\n        \"samples\": [\n          3.25\n        ],\n        \"semantic_type\": \"\",\n        \"description\": \"\"\n      }\n    }\n  ]\n}"
            }
          },
          "metadata": {},
          "execution_count": 33
        }
      ]
    },
    {
      "cell_type": "markdown",
      "source": [
        "Задание №11"
      ],
      "metadata": {
        "id": "_12AuSiztNE_"
      }
    },
    {
      "cell_type": "code",
      "source": [
        "df.MedHouseVal.max()"
      ],
      "metadata": {
        "colab": {
          "base_uri": "https://localhost:8080/"
        },
        "id": "rMad8yQDsh1I",
        "outputId": "ec8c3c4e-514a-4582-b249-e9651cbf4300"
      },
      "execution_count": null,
      "outputs": [
        {
          "output_type": "execute_result",
          "data": {
            "text/plain": [
              "5.00001"
            ]
          },
          "metadata": {},
          "execution_count": 34
        }
      ]
    },
    {
      "cell_type": "code",
      "source": [
        "df.MedHouseVal.min()"
      ],
      "metadata": {
        "colab": {
          "base_uri": "https://localhost:8080/"
        },
        "id": "nNvi0yH-tWs2",
        "outputId": "0b2787ab-2208-4198-c25d-1bbaee5a00e6"
      },
      "execution_count": null,
      "outputs": [
        {
          "output_type": "execute_result",
          "data": {
            "text/plain": [
              "0.14999"
            ]
          },
          "metadata": {},
          "execution_count": 35
        }
      ]
    },
    {
      "cell_type": "markdown",
      "source": [
        "Задание №12"
      ],
      "metadata": {
        "id": "ayqVaOMWtZDN"
      }
    },
    {
      "cell_type": "code",
      "source": [
        "def mean_info(x):\n",
        "    print(x.name, x.mean())\n",
        "    return x.mean()\n",
        "\n",
        "df.apply(mean_info, axis=0)"
      ],
      "metadata": {
        "colab": {
          "base_uri": "https://localhost:8080/",
          "height": 523
        },
        "id": "dCYlPT_ItYKg",
        "outputId": "91cfdbd1-1b67-4835-a95c-7bcf77ba65a2"
      },
      "execution_count": null,
      "outputs": [
        {
          "output_type": "stream",
          "name": "stdout",
          "text": [
            "MedInc 3.8706710029069766\n",
            "HouseAge 28.639486434108527\n",
            "AveRooms 5.428999742190376\n",
            "AveBedrms 1.096675149606208\n",
            "Population 1425.4767441860465\n",
            "AveOccup 3.0706551594363742\n",
            "Latitude 35.63186143410853\n",
            "Longitude -119.56970445736432\n",
            "MedHouseVal 2.068558169089147\n"
          ]
        },
        {
          "output_type": "execute_result",
          "data": {
            "text/plain": [
              "MedInc            3.870671\n",
              "HouseAge         28.639486\n",
              "AveRooms          5.429000\n",
              "AveBedrms         1.096675\n",
              "Population     1425.476744\n",
              "AveOccup          3.070655\n",
              "Latitude         35.631861\n",
              "Longitude      -119.569704\n",
              "MedHouseVal       2.068558\n",
              "dtype: float64"
            ],
            "text/html": [
              "<div>\n",
              "<style scoped>\n",
              "    .dataframe tbody tr th:only-of-type {\n",
              "        vertical-align: middle;\n",
              "    }\n",
              "\n",
              "    .dataframe tbody tr th {\n",
              "        vertical-align: top;\n",
              "    }\n",
              "\n",
              "    .dataframe thead th {\n",
              "        text-align: right;\n",
              "    }\n",
              "</style>\n",
              "<table border=\"1\" class=\"dataframe\">\n",
              "  <thead>\n",
              "    <tr style=\"text-align: right;\">\n",
              "      <th></th>\n",
              "      <th>0</th>\n",
              "    </tr>\n",
              "  </thead>\n",
              "  <tbody>\n",
              "    <tr>\n",
              "      <th>MedInc</th>\n",
              "      <td>3.870671</td>\n",
              "    </tr>\n",
              "    <tr>\n",
              "      <th>HouseAge</th>\n",
              "      <td>28.639486</td>\n",
              "    </tr>\n",
              "    <tr>\n",
              "      <th>AveRooms</th>\n",
              "      <td>5.429000</td>\n",
              "    </tr>\n",
              "    <tr>\n",
              "      <th>AveBedrms</th>\n",
              "      <td>1.096675</td>\n",
              "    </tr>\n",
              "    <tr>\n",
              "      <th>Population</th>\n",
              "      <td>1425.476744</td>\n",
              "    </tr>\n",
              "    <tr>\n",
              "      <th>AveOccup</th>\n",
              "      <td>3.070655</td>\n",
              "    </tr>\n",
              "    <tr>\n",
              "      <th>Latitude</th>\n",
              "      <td>35.631861</td>\n",
              "    </tr>\n",
              "    <tr>\n",
              "      <th>Longitude</th>\n",
              "      <td>-119.569704</td>\n",
              "    </tr>\n",
              "    <tr>\n",
              "      <th>MedHouseVal</th>\n",
              "      <td>2.068558</td>\n",
              "    </tr>\n",
              "  </tbody>\n",
              "</table>\n",
              "</div><br><label><b>dtype:</b> float64</label>"
            ]
          },
          "metadata": {},
          "execution_count": 37
        }
      ]
    },
    {
      "cell_type": "markdown",
      "source": [
        "Задание №1*"
      ],
      "metadata": {
        "id": "vv2oIFp4ui6k"
      }
    },
    {
      "cell_type": "code",
      "source": [
        "def morze_encode(s: str):\n",
        "    morze = {'a': '.-', 'b': '-...', 'c': '-.-.', 'd': '-..',\n",
        "            'e': '.', 'f': '..-.', 'g': '--.', 'h': '....',\n",
        "            'i': '..', 'j': '.---', 'k': '-.-', 'l': '.-..',\n",
        "            'm': '--', 'n': '-.', 'o': '---', 'p': '.--.',\n",
        "            'q': '--.-', 'r': '.-.', 's': '...', 't': '-',\n",
        "            'u': '..-', 'v': '...-', 'w': '.--', 'x': '-..-',\n",
        "            'y': '-.--', 'z': '--..'}\n",
        "    result = []\n",
        "    for word in s.lower().split():\n",
        "        encoded_word = []\n",
        "        for symbol in word:\n",
        "            encoded_word.append(morze[symbol])\n",
        "        result.append(' '.join(encoded_word))\n",
        "    return '\\n'.join(result)"
      ],
      "metadata": {
        "id": "syzfJfxEuX-F"
      },
      "execution_count": null,
      "outputs": []
    },
    {
      "cell_type": "code",
      "source": [
        "print(morze_encode(\"Ignition sequence start\"))"
      ],
      "metadata": {
        "colab": {
          "base_uri": "https://localhost:8080/"
        },
        "id": "pvsPCfzuvMkR",
        "outputId": "4f218eef-bcf1-48aa-a7d7-70c97c473b9f"
      },
      "execution_count": null,
      "outputs": [
        {
          "output_type": "stream",
          "name": "stdout",
          "text": [
            ".. --. -. .. - .. --- -.\n",
            "... . --.- ..- . -. -.-. .\n",
            "... - .- .-. -\n"
          ]
        }
      ]
    },
    {
      "cell_type": "markdown",
      "source": [
        "Задание №2*"
      ],
      "metadata": {
        "id": "KFqPnmRovjvL"
      }
    },
    {
      "cell_type": "code",
      "source": [
        "def check_unique_names(n: int):\n",
        "    database = {}\n",
        "    for _ in range(n):\n",
        "        name = input()\n",
        "        if name not in database:\n",
        "            print('OK')\n",
        "        else:\n",
        "            print(name + str(database[name]))\n",
        "        database[name] = database.get(name, 0) + 1"
      ],
      "metadata": {
        "id": "T0Kr0bxmvXXq"
      },
      "execution_count": null,
      "outputs": []
    },
    {
      "cell_type": "code",
      "source": [
        "check_unique_names(3)"
      ],
      "metadata": {
        "colab": {
          "base_uri": "https://localhost:8080/"
        },
        "id": "p2JM0hWRwEyv",
        "outputId": "bd7386e5-9c1f-4c11-bf0e-c470e46373e8"
      },
      "execution_count": null,
      "outputs": [
        {
          "output_type": "stream",
          "name": "stdout",
          "text": [
            "b\n",
            "OK\n",
            "b\n",
            "b1\n",
            "b\n",
            "b2\n"
          ]
        }
      ]
    },
    {
      "cell_type": "code",
      "source": [
        "check_unique_names(10)"
      ],
      "metadata": {
        "colab": {
          "base_uri": "https://localhost:8080/"
        },
        "id": "gAIA3h_DwHSr",
        "outputId": "5d846a4a-99fd-4845-f8f6-48e0d323e60e"
      },
      "execution_count": null,
      "outputs": [
        {
          "output_type": "stream",
          "name": "stdout",
          "text": [
            "fpqhfouqdldravpjttarh\n",
            "OK\n",
            "fpqhfouqdldravpjttarh\n",
            "fpqhfouqdldravpjttarh1\n",
            "fpqhfouqdldravpjttarh\n",
            "fpqhfouqdldravpjttarh2\n",
            "fpqhfouqdldravpjttarh\n",
            "fpqhfouqdldravpjttarh3\n",
            "fpqhfouqdldravpjttarh\n",
            "fpqhfouqdldravpjttarh4\n",
            "fpqhfouqdldravpjttarh\n",
            "fpqhfouqdldravpjttarh5\n",
            "jmvlplnrmba\n",
            "OK\n",
            "fpqhfouqdldravpjttarh\n",
            "fpqhfouqdldravpjttarh6\n",
            "jmvlplnrmba\n",
            "jmvlplnrmba1\n",
            "fpqhfouqdldravpjttarh\n",
            "fpqhfouqdldravpjttarh7\n"
          ]
        }
      ]
    },
    {
      "cell_type": "markdown",
      "source": [
        "Задание №3*"
      ],
      "metadata": {
        "id": "bqxuCFURwp2d"
      }
    },
    {
      "cell_type": "code",
      "source": [
        "def manage_files():\n",
        "    mode_dict = {\"w\": [], \"r\": [], \"x\": []}\n",
        "    n = int(input())\n",
        "    for _ in range(n):\n",
        "        _file, *modes = input().split()\n",
        "        for mode in modes:\n",
        "            mode_dict[mode].append(_file)\n",
        "\n",
        "    query_count = int(input())\n",
        "    for _ in range(query_count):\n",
        "        action, _file = input().split()\n",
        "        mode = {\"read\": \"r\", \"write\": \"w\", \"execute\": \"x\"}[action]\n",
        "        if _file not in mode_dict[mode]:\n",
        "            print('Access denied')\n",
        "        else:\n",
        "            print('OK')"
      ],
      "metadata": {
        "id": "omcrYeIbwSfd"
      },
      "execution_count": null,
      "outputs": []
    },
    {
      "cell_type": "code",
      "source": [
        "manage_files()"
      ],
      "metadata": {
        "colab": {
          "base_uri": "https://localhost:8080/"
        },
        "id": "8yqjljosyFBx",
        "outputId": "a073cc28-dde9-4696-9cdf-05529771d407"
      },
      "execution_count": null,
      "outputs": [
        {
          "output_type": "stream",
          "name": "stdout",
          "text": [
            "3\n",
            "python.exe x\n",
            "book.txt r w\n",
            "notebook.exe r w x\n",
            "5\n",
            "read python.exe\n",
            "Access denied\n",
            "read book.txt\n",
            "OK\n",
            "write notebook.exe\n",
            "OK\n",
            "execute notebook.exe\n",
            "OK\n",
            "write book.txt\n",
            "OK\n"
          ]
        }
      ]
    },
    {
      "cell_type": "code",
      "source": [
        "list(range(9, 3))"
      ],
      "metadata": {
        "id": "-Q-Qp7nhyGtL",
        "colab": {
          "base_uri": "https://localhost:8080/"
        },
        "outputId": "6f393a2a-c21a-433a-992f-39f2d5fd4f77"
      },
      "execution_count": null,
      "outputs": [
        {
          "output_type": "execute_result",
          "data": {
            "text/plain": [
              "[]"
            ]
          },
          "metadata": {},
          "execution_count": 6
        }
      ]
    },
    {
      "cell_type": "code",
      "source": [],
      "metadata": {
        "id": "PAqfoWp8semU"
      },
      "execution_count": null,
      "outputs": []
    }
  ]
}